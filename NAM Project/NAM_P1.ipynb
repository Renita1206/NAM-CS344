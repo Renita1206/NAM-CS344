{
  "nbformat": 4,
  "nbformat_minor": 0,
  "metadata": {
    "colab": {
      "provenance": []
    },
    "kernelspec": {
      "name": "python3",
      "display_name": "Python 3"
    }
  },
  "cells": [
    {
      "cell_type": "markdown",
      "metadata": {
        "id": "oia4DCDpaXKA"
      },
      "source": [
        "# Toxicity Prediction using Deepchem - \n",
        "#### Models - GCN,GAT and GGCN"
      ]
    },
    {
      "cell_type": "code",
      "metadata": {
        "id": "9va87VGba0Hk",
        "colab": {
          "base_uri": "https://localhost:8080/"
        },
        "outputId": "4cdb4ca4-4505-4c2b-9f42-ad05f85e62cd"
      },
      "source": [
        "# Installing conda\n",
        "!curl -Lo conda_installer.py https://raw.githubusercontent.com/deepchem/deepchem/master/scripts/colab_install.py\n",
        "import conda_installer\n",
        "conda_installer.install()\n",
        "!/root/miniconda/bin/conda info -e"
      ],
      "execution_count": 50,
      "outputs": [
        {
          "output_type": "stream",
          "name": "stdout",
          "text": [
            "  % Total    % Received % Xferd  Average Speed   Time    Time     Time  Current\n",
            "                                 Dload  Upload   Total   Spent    Left  Speed\n",
            "\r  0     0    0     0    0     0      0      0 --:--:-- --:--:-- --:--:--     0\r100  3457  100  3457    0     0  34919      0 --:--:-- --:--:-- --:--:-- 35275\n"
          ]
        },
        {
          "output_type": "stream",
          "name": "stderr",
          "text": [
            "all packages are already installed\n",
            "INFO:conda_installer:all packages are already installed\n"
          ]
        },
        {
          "output_type": "stream",
          "name": "stdout",
          "text": [
            "# conda environments:\n",
            "#\n",
            "base                     /root/miniconda\n",
            "\n"
          ]
        }
      ]
    },
    {
      "cell_type": "code",
      "metadata": {
        "id": "MyPiGA7qa7dZ",
        "colab": {
          "base_uri": "https://localhost:8080/",
          "height": 261
        },
        "outputId": "65e90a85-6e22-4e53-e9a9-a33683600c85"
      },
      "source": [
        "# Installing Deepchem\n",
        "!pip install --pre deepchem\n",
        "# Import deepchem just to check the version\n",
        "import deepchem\n",
        "deepchem.__version__"
      ],
      "execution_count": 51,
      "outputs": [
        {
          "output_type": "stream",
          "name": "stdout",
          "text": [
            "Looking in indexes: https://pypi.org/simple, https://us-python.pkg.dev/colab-wheels/public/simple/\n",
            "Requirement already satisfied: deepchem in /usr/local/lib/python3.10/dist-packages (2.7.2.dev20230428125349)\n",
            "Requirement already satisfied: scikit-learn in /usr/local/lib/python3.10/dist-packages (from deepchem) (1.2.2)\n",
            "Requirement already satisfied: rdkit in /usr/local/lib/python3.10/dist-packages (from deepchem) (2023.3.1b1)\n",
            "Requirement already satisfied: scipy in /usr/local/lib/python3.10/dist-packages (from deepchem) (1.10.1)\n",
            "Requirement already satisfied: joblib in /usr/local/lib/python3.10/dist-packages (from deepchem) (1.2.0)\n",
            "Requirement already satisfied: numpy>=1.21 in /usr/local/lib/python3.10/dist-packages (from deepchem) (1.22.4)\n",
            "Requirement already satisfied: pandas in /usr/local/lib/python3.10/dist-packages (from deepchem) (1.5.3)\n",
            "Requirement already satisfied: python-dateutil>=2.8.1 in /usr/local/lib/python3.10/dist-packages (from pandas->deepchem) (2.8.2)\n",
            "Requirement already satisfied: pytz>=2020.1 in /usr/local/lib/python3.10/dist-packages (from pandas->deepchem) (2022.7.1)\n",
            "Requirement already satisfied: Pillow in /usr/local/lib/python3.10/dist-packages (from rdkit->deepchem) (8.4.0)\n",
            "Requirement already satisfied: threadpoolctl>=2.0.0 in /usr/local/lib/python3.10/dist-packages (from scikit-learn->deepchem) (3.1.0)\n",
            "Requirement already satisfied: six>=1.5 in /usr/local/lib/python3.10/dist-packages (from python-dateutil>=2.8.1->pandas->deepchem) (1.16.0)\n"
          ]
        },
        {
          "output_type": "execute_result",
          "data": {
            "text/plain": [
              "'2.7.2.dev'"
            ],
            "application/vnd.google.colaboratory.intrinsic+json": {
              "type": "string"
            }
          },
          "metadata": {},
          "execution_count": 51
        }
      ]
    },
    {
      "cell_type": "code",
      "metadata": {
        "id": "CuubN3RVa9Pr"
      },
      "source": [
        "# Importing required libraries and its utilities\n",
        "import numpy as np\n",
        "\n",
        "np.random.seed(123)\n",
        "import tensorflow as tf\n",
        "\n",
        "tf.random.set_seed(123)\n",
        "import deepchem as dc\n",
        "from deepchem.molnet import load_tox21\n",
        "from deepchem.models.graph_models import GraphConvModel\n",
        "# from deepchem.models import GATModel"
      ],
      "execution_count": 52,
      "outputs": []
    },
    {
      "cell_type": "code",
      "metadata": {
        "id": "lGg6EzZJbT-f"
      },
      "source": [
        "# Tox21 is a part of Deepchem library\n",
        "# so we can convieniently download it using load_tox21 function\n",
        "tox21_tasks, tox21_datasets, transformers = load_tox21(featurizer='GraphConv')\n",
        "train_dataset, valid_dataset, test_dataset = tox21_datasets"
      ],
      "execution_count": 53,
      "outputs": []
    },
    {
      "cell_type": "code",
      "metadata": {
        "id": "FuCaMFR8chWD"
      },
      "source": [
        "# Define metric for the model\n",
        "metric = dc.metrics.Metric(dc.metrics.roc_auc_score, \n",
        "                           np.mean, \n",
        "                           mode=\"classification\")\n"
      ],
      "execution_count": 54,
      "outputs": []
    },
    {
      "cell_type": "markdown",
      "source": [
        "GCN model"
      ],
      "metadata": {
        "id": "uIQUqRWOuXDm"
      }
    },
    {
      "cell_type": "code",
      "metadata": {
        "id": "e6EF_v8Qc4nA",
        "colab": {
          "base_uri": "https://localhost:8080/"
        },
        "outputId": "e31aba8a-c1e2-40e6-e9a8-0227c3468c6f"
      },
      "source": [
        "# Define and fit the model\n",
        "model = GraphConvModel(len(tox21_tasks), \n",
        "                       batch_size=32,\n",
        "                       activation_fn=tf.nn.relu,\n",
        "                       mode='classification')\n",
        "print(\"Fitting the model\")\n",
        "model.fit(train_dataset, nb_epoch=20)"
      ],
      "execution_count": 64,
      "outputs": [
        {
          "output_type": "stream",
          "name": "stdout",
          "text": [
            "Fitting the model\n"
          ]
        },
        {
          "output_type": "execute_result",
          "data": {
            "text/plain": [
              "0.545823049545288"
            ]
          },
          "metadata": {},
          "execution_count": 64
        }
      ]
    },
    {
      "cell_type": "code",
      "metadata": {
        "id": "tdWnr7sHdVs8",
        "colab": {
          "base_uri": "https://localhost:8080/"
        },
        "outputId": "d1dc4852-108d-49c3-de37-7af0dfdbb6db"
      },
      "source": [
        "print(\"Evaluating model with ROC AUC\")\n",
        "train_scores = model.evaluate(train_dataset, [metric], transformers)\n",
        "valid_scores = model.evaluate(valid_dataset, [metric], transformers)"
      ],
      "execution_count": 65,
      "outputs": [
        {
          "output_type": "stream",
          "name": "stdout",
          "text": [
            "Evaluating model with ROC AUC\n"
          ]
        }
      ]
    },
    {
      "cell_type": "code",
      "metadata": {
        "id": "pB4Hq-nqddVn",
        "colab": {
          "base_uri": "https://localhost:8080/"
        },
        "outputId": "fc6ee979-44b6-4124-c5d9-dc11f76eafef"
      },
      "source": [
        "print(\"Train scores\")\n",
        "print(train_scores)\n",
        "\n",
        "print(\"Validation scores\")\n",
        "print(valid_scores)"
      ],
      "execution_count": 66,
      "outputs": [
        {
          "output_type": "stream",
          "name": "stdout",
          "text": [
            "Train scores\n",
            "{'mean-roc_auc_score': 0.934546761353627}\n",
            "Validation scores\n",
            "{'mean-roc_auc_score': 0.7449231964974411}\n"
          ]
        }
      ]
    },
    {
      "cell_type": "markdown",
      "source": [
        "GAT model"
      ],
      "metadata": {
        "id": "m-hcAFwiuUJ7"
      }
    },
    {
      "cell_type": "code",
      "source": [
        "model = GraphConvModel(len(tox21_tasks), \n",
        "                 batch_size=32, \n",
        "                 mode='classification',\n",
        "                 dropout=0.2,\n",
        "                 activation_fn=tf.nn.relu,\n",
        "                 model_dir = 'gat_model')\n",
        "print(\"Fitting the model\")\n",
        "model.fit(train_dataset, nb_epoch=20)"
      ],
      "metadata": {
        "colab": {
          "base_uri": "https://localhost:8080/"
        },
        "id": "XRvvk-yhqI4v",
        "outputId": "52adc789-a274-4c14-bec5-384397f5ce66"
      },
      "execution_count": 67,
      "outputs": [
        {
          "output_type": "stream",
          "name": "stdout",
          "text": [
            "Fitting the model\n"
          ]
        },
        {
          "output_type": "execute_result",
          "data": {
            "text/plain": [
              "0.6991569519042968"
            ]
          },
          "metadata": {},
          "execution_count": 67
        }
      ]
    },
    {
      "cell_type": "code",
      "source": [
        "print(\"Evaluating model with ROC AUC\")\n",
        "train_scores = model.evaluate(train_dataset, [metric], transformers)\n",
        "valid_scores = model.evaluate(valid_dataset, [metric], transformers)"
      ],
      "metadata": {
        "colab": {
          "base_uri": "https://localhost:8080/"
        },
        "id": "GE-j3qLduGNm",
        "outputId": "fb3f7543-f7a4-4400-9890-c200a9b66c14"
      },
      "execution_count": 68,
      "outputs": [
        {
          "output_type": "stream",
          "name": "stdout",
          "text": [
            "Evaluating model with ROC AUC\n"
          ]
        }
      ]
    },
    {
      "cell_type": "code",
      "source": [
        "print(\"Train scores\")\n",
        "print(train_scores)\n",
        "\n",
        "print(\"Validation scores\")\n",
        "print(valid_scores)"
      ],
      "metadata": {
        "colab": {
          "base_uri": "https://localhost:8080/"
        },
        "id": "s5ft5b9Kuo9o",
        "outputId": "442d8155-0678-42db-aeef-64f2d7171c5d"
      },
      "execution_count": 69,
      "outputs": [
        {
          "output_type": "stream",
          "name": "stdout",
          "text": [
            "Train scores\n",
            "{'mean-roc_auc_score': 0.8821193898922894}\n",
            "Validation scores\n",
            "{'mean-roc_auc_score': 0.7452863334290091}\n"
          ]
        }
      ]
    },
    {
      "cell_type": "markdown",
      "source": [
        "Gated GCN model"
      ],
      "metadata": {
        "id": "MF6xFElAuxly"
      }
    },
    {
      "cell_type": "code",
      "source": [
        "# from deepchem.models import GatedGraphConvModel\n",
        "\n",
        "model = GraphConvModel(\n",
        "    len(tox21_tasks),\n",
        "    batch_size=32,\n",
        "    mode = \"classification\",\n",
        "    dropout = 0.2,\n",
        "    activation_fn=tf.nn.relu,\n",
        "    model_dir='ggcn_model'\n",
        ")\n",
        "print(\"Fitting the model\")\n",
        "model.fit(train_dataset, nb_epoch=20)"
      ],
      "metadata": {
        "colab": {
          "base_uri": "https://localhost:8080/"
        },
        "id": "RNygCIvEu1UD",
        "outputId": "b68a1f8e-28b0-4f77-fcba-7f7569884f5e"
      },
      "execution_count": 70,
      "outputs": [
        {
          "output_type": "stream",
          "name": "stdout",
          "text": [
            "Fitting the model\n"
          ]
        },
        {
          "output_type": "execute_result",
          "data": {
            "text/plain": [
              "0.7176002502441406"
            ]
          },
          "metadata": {},
          "execution_count": 70
        }
      ]
    },
    {
      "cell_type": "code",
      "source": [
        "print(\"Evaluating model with ROC AUC\")\n",
        "train_scores = model.evaluate(train_dataset, [metric], transformers)\n",
        "valid_scores = model.evaluate(valid_dataset, [metric], transformers)"
      ],
      "metadata": {
        "colab": {
          "base_uri": "https://localhost:8080/"
        },
        "id": "gSNSxPXKvcyu",
        "outputId": "6003345b-0393-4f51-ca7f-1e47665dedaa"
      },
      "execution_count": 71,
      "outputs": [
        {
          "output_type": "stream",
          "name": "stdout",
          "text": [
            "Evaluating model with ROC AUC\n"
          ]
        }
      ]
    },
    {
      "cell_type": "code",
      "source": [
        "print(\"Train scores\")\n",
        "print(train_scores)\n",
        "\n",
        "print(\"Validation scores\")\n",
        "print(valid_scores)"
      ],
      "metadata": {
        "colab": {
          "base_uri": "https://localhost:8080/"
        },
        "id": "TWNMvQwTvoyZ",
        "outputId": "6a9e6d10-c834-4ae4-90f0-83d79f1a0324"
      },
      "execution_count": 72,
      "outputs": [
        {
          "output_type": "stream",
          "name": "stdout",
          "text": [
            "Train scores\n",
            "{'mean-roc_auc_score': 0.8827387471016305}\n",
            "Validation scores\n",
            "{'mean-roc_auc_score': 0.747146528696915}\n"
          ]
        }
      ]
    }
  ]
}