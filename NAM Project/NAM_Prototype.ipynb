{
  "nbformat": 4,
  "nbformat_minor": 0,
  "metadata": {
    "colab": {
      "provenance": []
    },
    "kernelspec": {
      "name": "python3",
      "display_name": "Python 3"
    }
  },
  "cells": [
    {
      "cell_type": "markdown",
      "metadata": {
        "id": "oia4DCDpaXKA"
      },
      "source": [
        "## Installing Deepchem and Loading Dataset"
      ]
    },
    {
      "cell_type": "code",
      "metadata": {
        "id": "MyPiGA7qa7dZ",
        "colab": {
          "base_uri": "https://localhost:8080/"
        },
        "outputId": "e95f227d-8427-4c6d-c4f4-a402e2697136"
      },
      "source": [
        "# Installing Deepchem\n",
        "!pip install --pre deepchem\n",
        "# Import deepchem just to check the version\n",
        "import deepchem\n",
        "#deepchem.__version__"
      ],
      "execution_count": 1,
      "outputs": [
        {
          "output_type": "stream",
          "name": "stdout",
          "text": [
            "Looking in indexes: https://pypi.org/simple, https://us-python.pkg.dev/colab-wheels/public/simple/\n",
            "Collecting deepchem\n",
            "  Downloading deepchem-2.7.2.dev20230428125349-py3-none-any.whl (775 kB)\n",
            "\u001b[2K     \u001b[90m━━━━━━━━━━━━━━━━━━━━━━━━━━━━━━━━━━━━━━\u001b[0m \u001b[32m775.8/775.8 kB\u001b[0m \u001b[31m11.7 MB/s\u001b[0m eta \u001b[36m0:00:00\u001b[0m\n",
            "\u001b[?25hRequirement already satisfied: numpy>=1.21 in /usr/local/lib/python3.10/dist-packages (from deepchem) (1.22.4)\n",
            "Requirement already satisfied: pandas in /usr/local/lib/python3.10/dist-packages (from deepchem) (1.5.3)\n",
            "Requirement already satisfied: scipy in /usr/local/lib/python3.10/dist-packages (from deepchem) (1.10.1)\n",
            "Requirement already satisfied: scikit-learn in /usr/local/lib/python3.10/dist-packages (from deepchem) (1.2.2)\n",
            "Collecting rdkit\n",
            "  Downloading rdkit-2023.3.1b1-cp310-cp310-manylinux_2_17_x86_64.manylinux2014_x86_64.whl (29.7 MB)\n",
            "\u001b[2K     \u001b[90m━━━━━━━━━━━━━━━━━━━━━━━━━━━━━━━━━━━━━━━━\u001b[0m \u001b[32m29.7/29.7 MB\u001b[0m \u001b[31m34.7 MB/s\u001b[0m eta \u001b[36m0:00:00\u001b[0m\n",
            "\u001b[?25hRequirement already satisfied: joblib in /usr/local/lib/python3.10/dist-packages (from deepchem) (1.2.0)\n",
            "Requirement already satisfied: python-dateutil>=2.8.1 in /usr/local/lib/python3.10/dist-packages (from pandas->deepchem) (2.8.2)\n",
            "Requirement already satisfied: pytz>=2020.1 in /usr/local/lib/python3.10/dist-packages (from pandas->deepchem) (2022.7.1)\n",
            "Requirement already satisfied: Pillow in /usr/local/lib/python3.10/dist-packages (from rdkit->deepchem) (8.4.0)\n",
            "Requirement already satisfied: threadpoolctl>=2.0.0 in /usr/local/lib/python3.10/dist-packages (from scikit-learn->deepchem) (3.1.0)\n",
            "Requirement already satisfied: six>=1.5 in /usr/local/lib/python3.10/dist-packages (from python-dateutil>=2.8.1->pandas->deepchem) (1.16.0)\n",
            "Installing collected packages: rdkit, deepchem\n",
            "Successfully installed deepchem-2.7.2.dev20230428125349 rdkit-2023.3.1b1\n"
          ]
        },
        {
          "output_type": "stream",
          "name": "stderr",
          "text": [
            "WARNING:deepchem.feat.molecule_featurizers.rdkit_descriptors:No normalization for AvgIpc. Feature removed!\n",
            "WARNING:deepchem.models.torch_models:Skipped loading modules with pytorch-geometric dependency, missing a dependency. No module named 'torch_geometric'\n",
            "WARNING:deepchem.models:Skipped loading modules with pytorch-geometric dependency, missing a dependency. cannot import name 'DMPNN' from 'deepchem.models.torch_models' (/usr/local/lib/python3.10/dist-packages/deepchem/models/torch_models/__init__.py)\n",
            "WARNING:deepchem.models:Skipped loading modules with pytorch-lightning dependency, missing a dependency. No module named 'pytorch_lightning'\n",
            "WARNING:deepchem.models:Skipped loading some Jax models, missing a dependency. No module named 'haiku'\n"
          ]
        }
      ]
    },
    {
      "cell_type": "code",
      "metadata": {
        "id": "CuubN3RVa9Pr"
      },
      "source": [
        "# Importing required libraries and its utilities\n",
        "import numpy as np\n",
        "\n",
        "np.random.seed(123)\n",
        "import tensorflow as tf\n",
        "\n",
        "tf.random.set_seed(123)\n",
        "import deepchem as dc\n",
        "from deepchem.molnet import load_tox21\n",
        "from deepchem.models.graph_models import GraphConvModel\n",
        "from deepchem.data import NumpyDataset\n",
        "from rdkit import Chem\n",
        "from deepchem.molnet import load_tox21\n",
        "\n",
        "import pandas as pd\n",
        "import numpy as np\n",
        "import matplotlib.pyplot as plt"
      ],
      "execution_count": 2,
      "outputs": []
    },
    {
      "cell_type": "code",
      "metadata": {
        "id": "lGg6EzZJbT-f",
        "colab": {
          "base_uri": "https://localhost:8080/"
        },
        "outputId": "fe07f560-8cef-41b7-f8a1-f55ba6a367c2"
      },
      "source": [
        "#print(load_tox21.__doc__)\n",
        "tox21_tasks, tox21_datasets, transformers = load_tox21(featurizer='GraphConv')\n",
        "train_dataset, valid_dataset, test_dataset = tox21_datasets"
      ],
      "execution_count": 3,
      "outputs": [
        {
          "output_type": "stream",
          "name": "stderr",
          "text": [
            "[16:34:51] WARNING: not removing hydrogen atom without neighbors\n",
            "[16:35:23] WARNING: not removing hydrogen atom without neighbors\n"
          ]
        }
      ]
    },
    {
      "cell_type": "markdown",
      "source": [
        "## Visualizing Compounds from the Database"
      ],
      "metadata": {
        "id": "-KYoveRc3jj8"
      }
    },
    {
      "cell_type": "code",
      "source": [
        "compound_index = 10\n",
        "\n",
        "# Retrieve compound and its features from dataset\n",
        "compound = tox21_datasets[0].X[compound_index]\n",
        "atom_features = compound.get_atom_features()\n",
        "adjacency = compound.get_adjacency_list()\n",
        "\n",
        "# Create an RDKit molecule object\n",
        "mol = Chem.RWMol()\n",
        "\n",
        "# Add atoms to the molecule\n",
        "for atom_feat in atom_features:\n",
        "    atomic_number = int(atom_feat[0])\n",
        "    atom = Chem.Atom(atomic_number)\n",
        "    mol.AddAtom(atom)\n",
        "\n",
        "# Add bonds to the molecule\n",
        "bond_indices = set()\n",
        "for i, neighbors in enumerate(adjacency):\n",
        "    for j in neighbors:\n",
        "        if (j, i) not in bond_indices:  # Check if bond already exists\n",
        "            mol.AddBond(i, j, Chem.BondType.SINGLE)\n",
        "            bond_indices.add((i, j))\n",
        "\n",
        "\n",
        "# Convert the molecule to a non-editable RDKit molecule object\n",
        "molecule = mol.GetMol()\n",
        "\n",
        "\n",
        "# Generate a 2D depiction of the molecule\n",
        "img = Chem.Draw.MolToImage(molecule)\n",
        "\n",
        "# Show the molecule image\n",
        "img.show()"
      ],
      "metadata": {
        "id": "_VXZ8gtemzki",
        "outputId": "b3ef0881-6748-4b93-90ef-f6f470420601",
        "colab": {
          "base_uri": "https://localhost:8080/",
          "height": 317
        }
      },
      "execution_count": 5,
      "outputs": [
        {
          "output_type": "display_data",
          "data": {
            "text/plain": [
              "<PIL.PngImagePlugin.PngImageFile image mode=RGB size=300x300 at 0x7F68E80250F0>"
            ],
            "image/png": "[encoded data removed]"
          },
          "metadata": {}
        }
      ]
    },
    {
      "cell_type": "markdown",
      "source": [
        "##Training GCN Model"
      ],
      "metadata": {
        "id": "mK8PMRgi4ALt"
      }
    },
    {
      "cell_type": "code",
      "metadata": {
        "id": "FuCaMFR8chWD"
      },
      "source": [
        "# Define metric for the model\n",
        "metric = dc.metrics.Metric(dc.metrics.roc_auc_score, np.mean, mode=\"classification\")"
      ],
      "execution_count": 7,
      "outputs": []
    },
    {
      "cell_type": "code",
      "metadata": {
        "id": "e6EF_v8Qc4nA",
        "colab": {
          "base_uri": "https://localhost:8080/"
        },
        "outputId": "ec1f4757-5ee6-4329-e81d-dced6e5adb94"
      },
      "source": [
        "# Define and fit the model\n",
        "model = GraphConvModel(len(tox21_tasks), batch_size=32, mode='classification')\n",
        "model.fit(train_dataset, nb_epoch=20)\n"
      ],
      "execution_count": 8,
      "outputs": [
        {
          "output_type": "execute_result",
          "data": {
            "text/plain": [
              "0.5719635486602783"
            ]
          },
          "metadata": {},
          "execution_count": 8
        }
      ]
    },
    {
      "cell_type": "code",
      "source": [
        "train_scores = model.evaluate(train_dataset, [metric], transformers)\n",
        "valid_scores = model.evaluate(valid_dataset, [metric], transformers)\n",
        "\n",
        "print(\"Train scores\\t\", train_scores['mean-roc_auc_score'])\n",
        "print(\"Validation scores\\t\", valid_scores['mean-roc_auc_score'])"
      ],
      "metadata": {
        "colab": {
          "base_uri": "https://localhost:8080/"
        },
        "id": "YZodpSTJ6eN9",
        "outputId": "ecaa7130-6d64-4681-df66-21676516b2d7"
      },
      "execution_count": 31,
      "outputs": [
        {
          "output_type": "stream",
          "name": "stdout",
          "text": [
            "Train scores\t 0.92722440155175\n",
            "Validation scores\t 0.7298605947299609\n"
          ]
        }
      ]
    },
    {
      "cell_type": "markdown",
      "source": [
        "## Predicting Properties of a given molecule"
      ],
      "metadata": {
        "id": "j9M_TLfJ4U4x"
      }
    },
    {
      "cell_type": "code",
      "source": [
        "compound_index = 10\n",
        "\n",
        "compound = tox21_datasets[0].X[compound_index]\n",
        "compound_batch = np.expand_dims(compound, axis=0)\n",
        "predictions = model.predict_on_batch(compound_batch)\n",
        "compound_predictions = predictions[0]"
      ],
      "metadata": {
        "id": "06kdYcginT_U"
      },
      "execution_count": 22,
      "outputs": []
    },
    {
      "cell_type": "code",
      "source": [
        "for task_name, predicted_value in zip(tox21_tasks, compound_predictions):\n",
        "    print(f\"{task_name}: {predicted_value}\")"
      ],
      "metadata": {
        "id": "7G9sdj5Btz2m",
        "outputId": "351fb628-085c-42e4-ca85-944487395376",
        "colab": {
          "base_uri": "https://localhost:8080/"
        }
      },
      "execution_count": 19,
      "outputs": [
        {
          "output_type": "stream",
          "name": "stdout",
          "text": [
            "NR-AR: [0.950151 0.049849]\n",
            "NR-AR-LBD: [9.9951524e-01 4.8475227e-04]\n",
            "NR-AhR: [0.98944294 0.01055709]\n",
            "NR-Aromatase: [9.9942887e-01 5.7099771e-04]\n",
            "NR-ER: [0.76547366 0.2345264 ]\n",
            "NR-ER-LBD: [0.98578155 0.0142184 ]\n",
            "NR-PPAR-gamma: [9.9915034e-01 8.4955792e-04]\n",
            "SR-ARE: [0.94233894 0.05766105]\n",
            "SR-ATAD5: [9.9948597e-01 5.1402702e-04]\n",
            "SR-HSE: [0.99505603 0.00494393]\n",
            "SR-MMP: [0.9950198  0.00498021]\n",
            "SR-p53: [9.991911e-01 8.088617e-04]\n"
          ]
        }
      ]
    },
    {
      "cell_type": "code",
      "source": [
        "# Print out properties that molecule tested positive for\n",
        "# ie. properties where prediction above threshold\n",
        "\n",
        "taskval = 0\n",
        "threshold = 0.1\n",
        "\n",
        "for val in compound_predictions:\n",
        "  if(val[1]>threshold):\n",
        "    print(tox21_tasks[taskval])\n",
        "  taskval = taskval + 1"
      ],
      "metadata": {
        "colab": {
          "base_uri": "https://localhost:8080/"
        },
        "id": "0LZiccMd6PZA",
        "outputId": "d3f1c113-cc8c-47b2-a5cf-6c91514e3e72"
      },
      "execution_count": 21,
      "outputs": [
        {
          "output_type": "stream",
          "name": "stdout",
          "text": [
            "NR-ER\n"
          ]
        }
      ]
    },
    {
      "cell_type": "markdown",
      "source": [
        "In the Tox21 dataset, the task labels indicate the activity of compounds against certain biological targets or assays, but it doesn't necessarily imply toxicity in a general sense. The goal of the dataset is to evaluate the potential effects of compounds on various biological processes and provide information relevant to drug discovery, environmental health, and chemical safety.\n",
        "\n",
        "In the context of the 'NR-AR' task, a predicted value of 1 indicates that the compound is predicted to be active in binding to the androgen receptor. This means that the compound has a higher likelihood of interacting with the receptor and potentially affecting the related biological pathway. However, whether this activity is considered toxic or not depends on the specific application, desired effects, and the potential consequences of modulating the androgen receptor pathway.\n"
      ],
      "metadata": {
        "id": "8ev8RG3RubJa"
      }
    },
    {
      "cell_type": "code",
      "source": [],
      "metadata": {
        "id": "9gMVoou07RAL"
      },
      "execution_count": null,
      "outputs": []
    }
  ]
}