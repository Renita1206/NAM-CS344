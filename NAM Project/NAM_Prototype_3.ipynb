{
  "cells": [
    {
      "attachments": {},
      "cell_type": "markdown",
      "metadata": {
        "id": "oia4DCDpaXKA"
      },
      "source": [
        "## Installing Deepchem and Loading Dataset"
      ]
    },
    {
      "cell_type": "code",
      "execution_count": 26,
      "metadata": {
        "colab": {
          "base_uri": "https://localhost:8080/"
        },
        "id": "MyPiGA7qa7dZ",
        "outputId": "e007ef2f-e046-43b8-daf1-7cd2e935fe2a",
        "vscode": {
          "languageId": "python"
        }
      },
      "outputs": [
        {
          "name": "stdout",
          "output_type": "stream",
          "text": [
            "Looking in indexes: https://pypi.org/simple, https://us-python.pkg.dev/colab-wheels/public/simple/\n",
            "Requirement already satisfied: deepchem in /usr/local/lib/python3.10/dist-packages (2.7.2.dev20230428125349)\n",
            "Requirement already satisfied: scikit-learn in /usr/local/lib/python3.10/dist-packages (from deepchem) (1.2.2)\n",
            "Requirement already satisfied: scipy in /usr/local/lib/python3.10/dist-packages (from deepchem) (1.10.1)\n",
            "Requirement already satisfied: rdkit in /usr/local/lib/python3.10/dist-packages (from deepchem) (2023.3.1b1)\n",
            "Requirement already satisfied: joblib in /usr/local/lib/python3.10/dist-packages (from deepchem) (1.2.0)\n",
            "Requirement already satisfied: numpy>=1.21 in /usr/local/lib/python3.10/dist-packages (from deepchem) (1.22.4)\n",
            "Requirement already satisfied: pandas in /usr/local/lib/python3.10/dist-packages (from deepchem) (1.5.3)\n",
            "Requirement already satisfied: python-dateutil>=2.8.1 in /usr/local/lib/python3.10/dist-packages (from pandas->deepchem) (2.8.2)\n",
            "Requirement already satisfied: pytz>=2020.1 in /usr/local/lib/python3.10/dist-packages (from pandas->deepchem) (2022.7.1)\n",
            "Requirement already satisfied: Pillow in /usr/local/lib/python3.10/dist-packages (from rdkit->deepchem) (8.4.0)\n",
            "Requirement already satisfied: threadpoolctl>=2.0.0 in /usr/local/lib/python3.10/dist-packages (from scikit-learn->deepchem) (3.1.0)\n",
            "Requirement already satisfied: six>=1.5 in /usr/local/lib/python3.10/dist-packages (from python-dateutil>=2.8.1->pandas->deepchem) (1.16.0)\n"
          ]
        }
      ],
      "source": [
        "# Installing Deepchem\n",
        "!pip install --pre deepchem\n",
        "# Import deepchem just to check the version\n",
        "import deepchem\n",
        "#deepchem.__version__"
      ]
    },
    {
      "cell_type": "code",
      "execution_count": 27,
      "metadata": {
        "id": "CuubN3RVa9Pr",
        "vscode": {
          "languageId": "python"
        }
      },
      "outputs": [],
      "source": [
        "# Importing required libraries and its utilities\n",
        "import numpy as np\n",
        "\n",
        "np.random.seed(123)\n",
        "import tensorflow as tf\n",
        "\n",
        "tf.random.set_seed(123)\n",
        "import deepchem as dc\n",
        "from deepchem.molnet import load_tox21\n",
        "from deepchem.models.graph_models import GraphConvModel\n",
        "from deepchem.data import NumpyDataset\n",
        "from rdkit import Chem\n",
        "from deepchem.molnet import load_tox21\n",
        "\n",
        "import pandas as pd\n",
        "import numpy as np\n",
        "import matplotlib.pyplot as plt"
      ]
    },
    {
      "cell_type": "code",
      "execution_count": 28,
      "metadata": {
        "id": "g-Fiisnv_7lV",
        "vscode": {
          "languageId": "python"
        }
      },
      "outputs": [],
      "source": [
        "import tempfile\n",
        "from sklearn.svm import SVC"
      ]
    },
    {
      "cell_type": "code",
      "execution_count": 29,
      "metadata": {
        "id": "wQl6RI6ECUSj",
        "vscode": {
          "languageId": "python"
        }
      },
      "outputs": [],
      "source": [
        "#print(load_tox21.__doc__)\n",
        "tox21_tasks, tox21_datasets, transformers = load_tox21(featurizer='GraphConv')\n",
        "train_dataset, valid_dataset, test_dataset = tox21_datasets"
      ]
    },
    {
      "cell_type": "code",
      "execution_count": 30,
      "metadata": {
        "id": "lGg6EzZJbT-f",
        "vscode": {
          "languageId": "python"
        }
      },
      "outputs": [],
      "source": [
        "# Load Tox21 dataset\n",
        "n_features = 1024\n",
        "tox21_tasks1, tox21_datasets1, transformers1 = dc.molnet.load_tox21()\n",
        "train_dataset1, valid_dataset1, test_dataset1 = tox21_datasets"
      ]
    },
    {
      "attachments": {},
      "cell_type": "markdown",
      "metadata": {
        "id": "SZHz4eeL8uUM"
      },
      "source": [
        "### Description of Dataset"
      ]
    },
    {
      "attachments": {},
      "cell_type": "markdown",
      "metadata": {
        "id": "VS8LgRXy8n3O"
      },
      "source": [
        "The Tox21 dataset consists of 12 binary classification tasks that assess the activity of compounds against specific biological targets. Here's an overview of each task:\n",
        "\n",
        "NR-AR (Nuclear Receptor Androgen Receptor): Measures the activity of compounds on the androgen receptor.\n",
        "\n",
        "NR-AR-LBD (Nuclear Receptor Androgen Receptor Ligand Binding Domain): Assesses the ligand binding activity of compounds to the ligand binding domain of the androgen receptor.\n",
        "\n",
        "NR-AhR (Nuclear Receptor Aryl Hydrocarbon Receptor): Evaluates the activity of compounds on the aryl hydrocarbon receptor.\n",
        "\n",
        "NR-Aromatase (Nuclear Receptor Aromatase): Measures the inhibitory activity of compounds on the aromatase enzyme.\n",
        "\n",
        "NR-ER (Nuclear Receptor Estrogen Receptor): Assesses the activity of compounds on the estrogen receptor.\n",
        "\n",
        "NR-ER-LBD (Nuclear Receptor Estrogen Receptor Ligand Binding Domain): Measures the ligand binding activity of compounds to the ligand binding domain of the estrogen receptor.\n",
        "\n",
        "NR-PPAR-gamma (Nuclear Receptor Peroxisome Proliferator-Activated Receptor Gamma): Evaluates the activity of compounds on the peroxisome proliferator-activated receptor gamma.\n",
        "\n",
        "SR-ARE (Stress Response Antioxidant Response Element): Assesses the activation of the antioxidant response element pathway by compounds.\n",
        "\n",
        "SR-ATAD5 (Stress Response Ataxia Telangiectasia Mutated Serine/Threonine Kinase Substrate): Measures the genotoxicity of compounds by evaluating their interaction with the Ataxia Telangiectasia Mutated kinase substrate.\n",
        "\n",
        "SR-HSE (Stress Response Heat Shock Response Element): Evaluates the activation of the heat shock response element pathway by compounds.\n",
        "\n",
        "SR-MMP (Stress Response Matrix Metalloproteinase): Assesses the inhibitory activity of compounds on matrix metalloproteinases.\n",
        "\n",
        "SR-p53 (Stress Response p53 Pathway): Measures the activation of the p53 pathway by compounds."
      ]
    },
    {
      "attachments": {},
      "cell_type": "markdown",
      "metadata": {
        "id": "-KYoveRc3jj8"
      },
      "source": [
        "## Visualizing Compounds from the Database"
      ]
    },
    {
      "cell_type": "code",
      "execution_count": 31,
      "metadata": {
        "colab": {
          "base_uri": "https://localhost:8080/",
          "height": 317
        },
        "id": "_VXZ8gtemzki",
        "outputId": "13cefbbd-0a7c-4ad9-cbc7-1d30c8c68a58",
        "vscode": {
          "languageId": "python"
        }
      },
      "outputs": [
        {
          "data": {
            "image/png": "[encoded data removed]",
            "text/plain": [
              "<PIL.PngImagePlugin.PngImageFile image mode=RGB size=300x300 at 0x7F0F4FE11ED0>"
            ]
          },
          "metadata": {},
          "output_type": "display_data"
        }
      ],
      "source": [
        "compound_index = 10\n",
        "\n",
        "# Retrieve compound and its features from dataset\n",
        "compound = tox21_datasets[0].X[compound_index]\n",
        "atom_features = compound.get_atom_features()\n",
        "adjacency = compound.get_adjacency_list()\n",
        "\n",
        "# Create an RDKit molecule object\n",
        "mol = Chem.RWMol()\n",
        "\n",
        "# Add atoms to the molecule\n",
        "for atom_feat in atom_features:\n",
        "    atomic_number = int(atom_feat[0])\n",
        "    atom = Chem.Atom(atomic_number)\n",
        "    mol.AddAtom(atom)\n",
        "\n",
        "# Add bonds to the molecule\n",
        "bond_indices = set()\n",
        "for i, neighbors in enumerate(adjacency):\n",
        "    for j in neighbors:\n",
        "        if (j, i) not in bond_indices:  # Check if bond already exists\n",
        "            mol.AddBond(i, j, Chem.BondType.SINGLE)\n",
        "            bond_indices.add((i, j))\n",
        "\n",
        "\n",
        "# Convert the molecule to a non-editable RDKit molecule object\n",
        "molecule = mol.GetMol()\n",
        "\n",
        "\n",
        "# Generate a 2D depiction of the molecule\n",
        "img = Chem.Draw.MolToImage(molecule)\n",
        "\n",
        "# Show the molecule image\n",
        "img.show()"
      ]
    },
    {
      "attachments": {},
      "cell_type": "markdown",
      "metadata": {
        "id": "SpFJLX--CgTe"
      },
      "source": [
        "## Training GCN Model"
      ]
    },
    {
      "cell_type": "code",
      "execution_count": 32,
      "metadata": {
        "id": "3t6yze0ACgTf",
        "vscode": {
          "languageId": "python"
        }
      },
      "outputs": [],
      "source": [
        "# Define metric for the model\n",
        "metric = dc.metrics.Metric(dc.metrics.roc_auc_score)"
      ]
    },
    {
      "cell_type": "code",
      "execution_count": 33,
      "metadata": {
        "colab": {
          "base_uri": "https://localhost:8080/"
        },
        "id": "tM9nNiepCgTf",
        "outputId": "19a75c8c-8a3d-405b-b89c-44bc22268740",
        "vscode": {
          "languageId": "python"
        }
      },
      "outputs": [
        {
          "name": "stdout",
          "output_type": "stream",
          "text": [
            "0.6741940180460612\n"
          ]
        }
      ],
      "source": [
        "# Define and fit the model\n",
        "model = GraphConvModel(len(tox21_tasks), batch_size=32, mode='classification')\n",
        "history = model.fit(train_dataset, nb_epoch=10)\n",
        "print(history)"
      ]
    },
    {
      "attachments": {},
      "cell_type": "markdown",
      "metadata": {
        "id": "TPZqVdsFCgTg"
      },
      "source": [
        "### Evaluating the Model"
      ]
    },
    {
      "cell_type": "code",
      "execution_count": 36,
      "metadata": {
        "colab": {
          "base_uri": "https://localhost:8080/"
        },
        "id": "GbWXYpnOCgTg",
        "outputId": "e4371e50-7888-4256-c2ba-01548e5faab7",
        "vscode": {
          "languageId": "python"
        }
      },
      "outputs": [
        {
          "name": "stdout",
          "output_type": "stream",
          "text": [
            "Train scores\t {'roc_auc_score': 0.8996523314699526}\n",
            "Validation scores\t {'roc_auc_score': 0.7242552993550442}\n"
          ]
        }
      ],
      "source": [
        "train_scores = model.evaluate(train_dataset, [metric], transformers)\n",
        "valid_scores = model.evaluate(valid_dataset, [metric], transformers)\n",
        "\n",
        "print(\"Train scores\\t\", train_scores)\n",
        "print(\"Validation scores\\t\", valid_scores)"
      ]
    },
    {
      "attachments": {},
      "cell_type": "markdown",
      "metadata": {
        "id": "Uhr5v1lKCt6O"
      },
      "source": [
        "## Training GAT Model"
      ]
    },
    {
      "cell_type": "code",
      "execution_count": 37,
      "metadata": {
        "id": "JfGO9g6JCt6P",
        "vscode": {
          "languageId": "python"
        }
      },
      "outputs": [],
      "source": [
        "# Define metric for the model\n",
        "metric = dc.metrics.Metric(dc.metrics.roc_auc_score)"
      ]
    },
    {
      "cell_type": "code",
      "execution_count": 38,
      "metadata": {
        "id": "3vyXE5Z7C5yi",
        "vscode": {
          "languageId": "python"
        }
      },
      "outputs": [],
      "source": [
        "model = GraphConvModel(len(tox21_tasks), \n",
        "                 batch_size=32, \n",
        "                 mode='classification',\n",
        "                 dropout=0.2,\n",
        "                 activation_fn=tf.nn.relu,\n",
        "                 model_dir = 'gat_model')"
      ]
    },
    {
      "cell_type": "code",
      "execution_count": 39,
      "metadata": {
        "colab": {
          "base_uri": "https://localhost:8080/"
        },
        "id": "fU2afCOOCt6P",
        "outputId": "7fbed7f5-1100-4d19-b5c5-a3aca9407c39",
        "vscode": {
          "languageId": "python"
        }
      },
      "outputs": [
        {
          "name": "stdout",
          "output_type": "stream",
          "text": [
            "0.7457509517669678\n"
          ]
        }
      ],
      "source": [
        "history = model.fit(train_dataset, nb_epoch=20)\n",
        "print(history)"
      ]
    },
    {
      "attachments": {},
      "cell_type": "markdown",
      "metadata": {
        "id": "IcaCh6fHCt6Q"
      },
      "source": [
        "### Evaluating the Model"
      ]
    },
    {
      "cell_type": "code",
      "execution_count": 40,
      "metadata": {
        "colab": {
          "base_uri": "https://localhost:8080/"
        },
        "id": "K85MUnk4Ct6Q",
        "outputId": "39475c49-e966-48ec-acbf-82d3406ab5f7",
        "vscode": {
          "languageId": "python"
        }
      },
      "outputs": [
        {
          "name": "stdout",
          "output_type": "stream",
          "text": [
            "Train scores\t {'roc_auc_score': 0.8805859920068954}\n",
            "Validation scores\t {'roc_auc_score': 0.726741248777246}\n"
          ]
        }
      ],
      "source": [
        "train_scores = model.evaluate(train_dataset, [metric], transformers)\n",
        "valid_scores = model.evaluate(valid_dataset, [metric], transformers)\n",
        "\n",
        "print(\"Train scores\\t\", train_scores)\n",
        "print(\"Validation scores\\t\", valid_scores)"
      ]
    },
    {
      "attachments": {},
      "cell_type": "markdown",
      "metadata": {
        "id": "z0w9CoZTDE75"
      },
      "source": [
        "## Training GGCN Model"
      ]
    },
    {
      "cell_type": "code",
      "execution_count": 41,
      "metadata": {
        "id": "CwkqhyIUDE76",
        "vscode": {
          "languageId": "python"
        }
      },
      "outputs": [],
      "source": [
        "# Define metric for the model\n",
        "metric = dc.metrics.Metric(dc.metrics.roc_auc_score)"
      ]
    },
    {
      "cell_type": "code",
      "execution_count": 42,
      "metadata": {
        "id": "96aE9wbyDE76",
        "vscode": {
          "languageId": "python"
        }
      },
      "outputs": [],
      "source": [
        "model = GraphConvModel(\n",
        "    len(tox21_tasks),\n",
        "    batch_size=32,\n",
        "    mode = \"classification\",\n",
        "    dropout = 0.2,\n",
        "    activation_fn=tf.nn.relu,\n",
        "    model_dir='ggcn_model'\n",
        ")"
      ]
    },
    {
      "cell_type": "code",
      "execution_count": 43,
      "metadata": {
        "colab": {
          "base_uri": "https://localhost:8080/"
        },
        "id": "4h82H_YCDE77",
        "outputId": "1d23309e-d84b-4f17-cdfc-c1c1a68d6956",
        "vscode": {
          "languageId": "python"
        }
      },
      "outputs": [
        {
          "name": "stdout",
          "output_type": "stream",
          "text": [
            "0.7560021877288818\n"
          ]
        }
      ],
      "source": [
        "history = model.fit(train_dataset, nb_epoch=20)\n",
        "print(history)"
      ]
    },
    {
      "attachments": {},
      "cell_type": "markdown",
      "metadata": {
        "id": "wEDW48IdDE77"
      },
      "source": [
        "### Evaluating the Model"
      ]
    },
    {
      "cell_type": "code",
      "execution_count": 44,
      "metadata": {
        "colab": {
          "base_uri": "https://localhost:8080/"
        },
        "id": "_Kxlqas8DE77",
        "outputId": "701eb1df-46d1-4108-e98c-9811ead549b9",
        "vscode": {
          "languageId": "python"
        }
      },
      "outputs": [
        {
          "name": "stdout",
          "output_type": "stream",
          "text": [
            "Train scores\t {'roc_auc_score': 0.8807082623157646}\n",
            "Validation scores\t {'roc_auc_score': 0.749729995717737}\n"
          ]
        }
      ],
      "source": [
        "train_scores = model.evaluate(train_dataset, [metric], transformers)\n",
        "valid_scores = model.evaluate(valid_dataset, [metric], transformers)\n",
        "\n",
        "print(\"Train scores\\t\", train_scores)\n",
        "print(\"Validation scores\\t\", valid_scores)"
      ]
    },
    {
      "attachments": {},
      "cell_type": "markdown",
      "metadata": {
        "id": "j9M_TLfJ4U4x"
      },
      "source": [
        "## Predicting Properties of a given molecule"
      ]
    },
    {
      "cell_type": "code",
      "execution_count": 45,
      "metadata": {
        "id": "06kdYcginT_U",
        "vscode": {
          "languageId": "python"
        }
      },
      "outputs": [],
      "source": [
        "compound_index = 10\n",
        "\n",
        "compound = tox21_datasets[0].X[compound_index]\n",
        "compound_batch = np.expand_dims(compound, axis=0)\n",
        "predictions = model.predict_on_batch(compound_batch)\n",
        "compound_predictions = predictions[0]"
      ]
    },
    {
      "cell_type": "code",
      "execution_count": 46,
      "metadata": {
        "colab": {
          "base_uri": "https://localhost:8080/"
        },
        "id": "7G9sdj5Btz2m",
        "outputId": "fd89bf13-a691-437d-e449-85a4f1890b4e",
        "vscode": {
          "languageId": "python"
        }
      },
      "outputs": [
        {
          "name": "stdout",
          "output_type": "stream",
          "text": [
            "NR-AR: [0.8977039  0.10229603]\n",
            "NR-AR-LBD: [0.9517217  0.04827822]\n",
            "NR-AhR: [0.9818262  0.01817366]\n",
            "NR-Aromatase: [0.9975301 0.0024698]\n",
            "NR-ER: [0.69935274 0.30064726]\n",
            "NR-ER-LBD: [0.934951  0.0650491]\n",
            "NR-PPAR-gamma: [0.99299735 0.00700263]\n",
            "SR-ARE: [0.9728916  0.02710834]\n",
            "SR-ATAD5: [0.99404377 0.00595622]\n",
            "SR-HSE: [0.9805376  0.01946235]\n",
            "SR-MMP: [0.998755   0.00124501]\n",
            "SR-p53: [0.9947747  0.00522524]\n"
          ]
        }
      ],
      "source": [
        "for task_name, predicted_value in zip(tox21_tasks, compound_predictions):\n",
        "    print(f\"{task_name}: {predicted_value}\")"
      ]
    },
    {
      "cell_type": "code",
      "execution_count": 47,
      "metadata": {
        "colab": {
          "base_uri": "https://localhost:8080/"
        },
        "id": "0LZiccMd6PZA",
        "outputId": "b96a53b4-2b5c-49ff-9c95-a884d55aa5f2",
        "vscode": {
          "languageId": "python"
        }
      },
      "outputs": [
        {
          "name": "stdout",
          "output_type": "stream",
          "text": [
            "NR-AR\n",
            "NR-ER\n"
          ]
        }
      ],
      "source": [
        "# Print out properties that molecule tested positive for\n",
        "# ie. properties where prediction above threshold\n",
        "\n",
        "taskval = 0\n",
        "threshold = 0.1\n",
        "\n",
        "for val in compound_predictions:\n",
        "  if(val[1]>threshold):\n",
        "    print(tox21_tasks[taskval])\n",
        "  taskval = taskval + 1"
      ]
    },
    {
      "attachments": {},
      "cell_type": "markdown",
      "metadata": {
        "id": "8ev8RG3RubJa"
      },
      "source": [
        "In the context of the 'NR-AR' task, a predicted value of 1 indicates that the compound is predicted to be active in binding to the androgen receptor. This means that the compound has a higher likelihood of interacting with the receptor and potentially affecting the related biological pathway. However, whether this activity is considered toxic or not depends on the specific application, desired effects, and the potential consequences of modulating the androgen receptor pathway.\n"
      ]
    },
    {
      "cell_type": "code",
      "execution_count": 47,
      "metadata": {
        "id": "uTpZ5DHJ85wy",
        "vscode": {
          "languageId": "python"
        }
      },
      "outputs": [],
      "source": []
    }
  ],
  "metadata": {
    "colab": {
      "collapsed_sections": [
        "oia4DCDpaXKA",
        "SZHz4eeL8uUM",
        "-KYoveRc3jj8",
        "mK8PMRgi4ALt",
        "j9M_TLfJ4U4x"
      ],
      "provenance": []
    },
    "kernelspec": {
      "display_name": "Python 3",
      "name": "python3"
    }
  },
  "nbformat": 4,
  "nbformat_minor": 0
}
